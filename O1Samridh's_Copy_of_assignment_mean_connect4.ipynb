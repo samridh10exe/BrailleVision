{
  "cells": [
    {
      "cell_type": "markdown",
      "metadata": {
        "id": "view-in-github",
        "colab_type": "text"
      },
      "source": [
        "<a href=\"https://colab.research.google.com/github/samridh10exe/BrailleVision/blob/main/O1Samridh's_Copy_of_assignment_mean_connect4.ipynb\" target=\"_parent\"><img src=\"https://colab.research.google.com/assets/colab-badge.svg\" alt=\"Open In Colab\"/></a>"
      ]
    },
    {
      "cell_type": "markdown",
      "metadata": {
        "id": "WyISr3c6L8cY"
      },
      "source": [
        "# Adversarial Search: Playing \"Mean\" Connect 4\n",
        "\n",
        "\n",
        "## Instructions\n",
        "\n",
        "Name: [Add your name]\n",
        "\n",
        "I understand that my submission needs to be my own work: [enter 'yes']\n",
        "\n",
        "Points: 10\n",
        "\n",
        "\n",
        "---\n",
        "\n",
        "\n",
        "\n",
        "## Introduction\n",
        "\n",
        "You will implement different versions of agents that play \"Mean\" Connect 4:\n",
        "\n",
        "> \"Connect 4 is a two-player connection board game, in which the players choose a color and then take turns dropping colored discs into a seven-column, six-row vertically suspended grid. The pieces fall straight down, occupying the lowest available space within the column. The objective of the game is to be the first to form a horizontal, vertical, or diagonal line of four of one's own discs.\" (see [Connect Four on Wikipedia](https://en.wikipedia.org/wiki/Connect_Four))\n",
        "\n",
        "> **The mean part:** This game has an additional rule. Every time it is a player's turn, the player can decide to instead of playing a new disk, take a bottom row disk of the opponent and place it back in the top of the same column. All disks above the removed disk will fall down one position and the removed one will be placed on top. Note that a player can only move an _opponent's disc_ that is in the _bottom row_ of the board. **Further, you are not allowed to play a mean move if your opponent just played one.** This ensures the game will end at some point. This also may affect the definition of a state, compared with standard Connect 4.\n",
        "\n",
        "If a mean move causes both players to win, the game immediately ends and it is a tie, even if one player has more connect-4s than the other one. If a mean move causes one player to win, then the game also ends and the player with the connect-4 is the winner.\n",
        "\n",
        "Note that normal [Connect-4 has been solved](https://en.wikipedia.org/wiki/Connect_Four#Mathematical_solution)\n",
        "in 1988. A connect-4 solver with a discussion of how to solve different parts of the problem can be found here: https://connect4.gamesolver.org/en/"
      ]
    },
    {
      "cell_type": "markdown",
      "metadata": {
        "id": "zuWbcK6gL8cZ"
      },
      "source": [
        "## Task 1: Defining the Search Problem [1 point]\n",
        "\n",
        "Define the components of the search problem associated with this game:\n",
        "\n",
        "* Initial state\n",
        "* Actions\n",
        "* Transition model\n",
        "* Test for the terminal state\n",
        "* Utility for terminal states"
      ]
    },
    {
      "cell_type": "code",
      "execution_count": null,
      "metadata": {
        "id": "uzLitKOdL8cf"
      },
      "outputs": [],
      "source": [
        "# Your code/answer goes here."
      ]
    },
    {
      "cell_type": "markdown",
      "metadata": {
        "id": "cHDORt8_L8cg"
      },
      "source": [
        "How big is the state space? Give an estimate and explain it."
      ]
    },
    {
      "cell_type": "code",
      "execution_count": null,
      "metadata": {
        "id": "D_GIsO80L8cg"
      },
      "outputs": [],
      "source": [
        "# Your code/ answer goes here."
      ]
    },
    {
      "cell_type": "markdown",
      "metadata": {
        "id": "7ci9AS2QL8ch"
      },
      "source": [
        "How big is the game tree that minimax search will go through? Give an estimate and explain it."
      ]
    },
    {
      "cell_type": "code",
      "execution_count": null,
      "metadata": {
        "id": "iTkWu4ZiL8ci"
      },
      "outputs": [],
      "source": [
        "# Your code/ answer goes here."
      ]
    },
    {
      "cell_type": "markdown",
      "metadata": {
        "id": "u66LNfUEL8ci"
      },
      "source": [
        "## Task 2: Game Environment and Random Agent [3 point]\n",
        "\n",
        "You can use a numpy character array as the board. Note that the following function can create boards of different sizes."
      ]
    },
    {
      "cell_type": "code",
      "execution_count": 1,
      "metadata": {
        "id": "gFoRCZefL8cj",
        "outputId": "f034880e-ba47-45c7-dc80-be20b0422eff",
        "colab": {
          "base_uri": "https://localhost:8080/"
        }
      },
      "outputs": [
        {
          "output_type": "stream",
          "name": "stdout",
          "text": [
            "[[0 0 0 0 0 0 0]\n",
            " [0 0 0 0 0 0 0]\n",
            " [0 0 0 0 0 0 0]\n",
            " [0 0 0 0 0 0 0]\n",
            " [0 0 0 0 0 0 0]\n",
            " [0 0 0 0 0 0 0]]\n"
          ]
        }
      ],
      "source": [
        "import numpy as np\n",
        "import random\n",
        "import time\n",
        "import matplotlib.pyplot as plt\n",
        "\n",
        "\n",
        "def empty_board(rows=6, cols=7):\n",
        "    return np.zeros((rows, cols), dtype=int)\n",
        "\n",
        "print(empty_board())"
      ]
    },
    {
      "cell_type": "markdown",
      "metadata": {
        "id": "GCCwVya8L8cj"
      },
      "source": [
        "Instead of colors (red and yellow), you can use 1 and -1 to represent the players Max and Min. Make sure that your agent functions all have the from: `agent_type(state, player = 1)`, where board is the current board position and player is the player (1, -1) whose next move it is and who the agent should play."
      ]
    },
    {
      "cell_type": "markdown",
      "metadata": {
        "id": "DtsGKQPsL8ck"
      },
      "source": [
        "Visualization code by Randolph Rankin:"
      ]
    },
    {
      "cell_type": "code",
      "execution_count": 2,
      "metadata": {
        "scrolled": true,
        "id": "dRChZkdZL8ck",
        "outputId": "bddbaa06-a6b3-4194-d26c-17057a8e41c2",
        "colab": {
          "base_uri": "https://localhost:8080/",
          "height": 430
        }
      },
      "outputs": [
        {
          "output_type": "display_data",
          "data": {
            "text/plain": [
              "<Figure size 640x480 with 1 Axes>"
            ],
            "image/png": "[encoded data removed]"
          },
          "metadata": {}
        }
      ],
      "source": [
        "def visualize(board):\n",
        "    plt.axes()\n",
        "    rectangle=plt.Rectangle((-0.5,len(board)*-1+0.5),len(board[0]),len(board),fc='blue')\n",
        "    circles=[]\n",
        "    for i,row in enumerate(board):\n",
        "        for j,val in enumerate(row):\n",
        "            color='white' if val==0 else 'red' if val==1 else 'yellow'\n",
        "            circles.append(plt.Circle((j,i*-1),0.4,fc=color))\n",
        "\n",
        "    plt.gca().add_patch(rectangle)\n",
        "    for circle in circles:\n",
        "        plt.gca().add_patch(circle)\n",
        "\n",
        "    plt.axis('scaled')\n",
        "    plt.show()\n",
        "\n",
        "board = [[0, 0, 0, 0, 0, 0, 0],\n",
        "         [0, 0, 0, 0, 0, 0, 0],\n",
        "         [0, 0, 0, 0, 0, 0, 0],\n",
        "         [0, 0, 0, 1, 0, 0, 0],\n",
        "         [0, 0, 0, 1, 0, 0, 0],\n",
        "         [0,-1,-1, 1,-1, 0, 0]]\n",
        "\n",
        "visualize(board)"
      ]
    },
    {
      "cell_type": "markdown",
      "metadata": {
        "id": "ZOa_fihRL8ck"
      },
      "source": [
        "Implement helper functions for:\n",
        "\n",
        "* The transition model $result(s, a)$.\n",
        "* The utility function $utility(s)$.\n",
        "* Check for terminal states $terminal(s)$.\n",
        "* A check for available actions in each state $actions(s)$.\n",
        "\n",
        "Make sure that all these functions work with boards of different sizes (number of columns and rows)."
      ]
    },
    {
      "cell_type": "code",
      "execution_count": 45,
      "metadata": {
        "id": "8sDMBWFtL8ck"
      },
      "outputs": [],
      "source": [
        "import numpy as np\n",
        "import random\n",
        "\n",
        "def empty_board(rows=6, cols=7):\n",
        "    \"\"\"\n",
        "    Create and return an empty board of shape (rows x cols).\n",
        "    0 indicates an empty cell.\n",
        "    1 indicates a disc belonging to Max (the 'red' player).\n",
        "    -1 indicates a disc belonging to Min (the 'yellow' player).\n",
        "    \"\"\"\n",
        "    return np.zeros((rows, cols), dtype=int)\n",
        "\n",
        "\n",
        "def check_connect_four(board, player):\n",
        "    \"\"\"\n",
        "    Checks if 'player' (1 or -1) has a connect-4 in the given board.\n",
        "    Returns True if yes, False otherwise.\n",
        "\n",
        "    We look for 4 consecutive discs belonging to 'player'\n",
        "    in any row, column or diagonal.\n",
        "    \"\"\"\n",
        "    rows, cols = board.shape\n",
        "    for r in range(rows):\n",
        "        for c in range(cols):\n",
        "            if board[r, c] == player:\n",
        "                # Check horizontal (need c+3 < cols)\n",
        "                if c + 3 < cols and all(board[r, c + i] == player for i in range(4)):\n",
        "                    return True\n",
        "                # Check vertical (need r+3 < rows)\n",
        "                if r + 3 < rows and all(board[r + i, c] == player for i in range(4)):\n",
        "                    return True\n",
        "                # Check diagonal (down-right)\n",
        "                if (r + 3 < rows and c + 3 < cols\n",
        "                    and all(board[r + i, c + i] == player for i in range(4))):\n",
        "                    return True\n",
        "                # Check diagonal (down-left)\n",
        "                if (r + 3 < rows and c - 3 >= 0\n",
        "                    and all(board[r + i, c - i] == player for i in range(4))):\n",
        "                    return True\n",
        "    return False\n",
        "\n",
        "\n",
        "def utility(board):\n",
        "    \"\"\"\n",
        "    Determine if the board is in a winning or tying terminal state:\n",
        "      - +1 if ONLY player=1 (Max) has a connect-4\n",
        "      - -1 if ONLY player=-1 (Min) has a connect-4\n",
        "      -  0 if neither or BOTH players have connect-4 (tie)\n",
        "    Returns None if no one has connect-4 yet.\n",
        "\n",
        "    Note on Mean Connect-4:\n",
        "    If a mean move causes both players to simultaneously have connect-4,\n",
        "    we regard that as a tie => return 0.\n",
        "    \"\"\"\n",
        "    max_has = check_connect_four(board, 1)\n",
        "    min_has = check_connect_four(board, -1)\n",
        "    if max_has and not min_has:\n",
        "        return 1\n",
        "    elif min_has and not max_has:\n",
        "        return -1\n",
        "    elif max_has and min_has:\n",
        "        # Both formed connect-4 => tie\n",
        "        return 0\n",
        "    else:\n",
        "        # No connect-4 for either side yet\n",
        "        return None\n",
        "\n",
        "\n",
        "def is_full(board):\n",
        "    \"\"\"\n",
        "    Check if the entire board is occupied (no zeros).\n",
        "    \"\"\"\n",
        "    return not np.any(board == 0)\n",
        "\n",
        "\n",
        "def actions(board, player, last_move_was_mean):\n",
        "    \"\"\"\n",
        "    Return a list of valid actions for the current player.\n",
        "    An action is a tuple: (\"drop\", col) or (\"mean\", col).\n",
        "\n",
        "    'drop' means: place the player's piece in the top available row\n",
        "                  of column 'col'.\n",
        "    'mean' means: if the bottom cell of column 'col' holds\n",
        "                  the OPPONENT's piece (i.e., -player),\n",
        "                  remove it and re-insert it at the top of the same column,\n",
        "                  shifting everything else in that column down by one.\n",
        "\n",
        "    Only allowed to do a \"mean\" move if the opponent did NOT just do a mean move\n",
        "    (i.e., if last_move_was_mean == False). This enforces no consecutive mean moves.\n",
        "    \"\"\"\n",
        "    rows, cols = board.shape\n",
        "    valid_acts = []\n",
        "\n",
        "    # 1) Normal drop moves\n",
        "    for c in range(cols):\n",
        "        if board[0, c] == 0:  # topmost cell empty => can drop\n",
        "            valid_acts.append((\"drop\", c))\n",
        "\n",
        "    # 2) Mean move\n",
        "    # Allowed only if last_move_was_mean == False and the bottom cell has an opponent disc\n",
        "    if not last_move_was_mean:\n",
        "        for c in range(cols):\n",
        "            if board[rows - 1, c] == -player:\n",
        "                valid_acts.append((\"mean\", c))\n",
        "\n",
        "    return valid_acts\n",
        "\n",
        "\n",
        "def result(board, player, action, last_move_was_mean):\n",
        "    \"\"\"\n",
        "    Return (new_board, new_last_mean) after applying 'action' for 'player'.\n",
        "    'board' is unchanged (we copy it).\n",
        "    \"\"\"\n",
        "    rows, cols = board.shape\n",
        "    new_board = board.copy()\n",
        "\n",
        "    act_type, col = action\n",
        "    if act_type == \"drop\":\n",
        "        # Find the lowest empty row in column col\n",
        "        for r in range(rows - 1, -1, -1):\n",
        "            if new_board[r, col] == 0:\n",
        "                new_board[r, col] = player\n",
        "                break\n",
        "        return new_board, False  # after a normal drop, last_move_was_mean = False\n",
        "\n",
        "    else:  # \"mean\" move\n",
        "        # Must have the bottom cell as the opponent's disc\n",
        "        bottom_piece = new_board[rows - 1, col]\n",
        "        if bottom_piece != -player:\n",
        "            raise ValueError(\"Invalid mean move: bottom cell is not the opponent's disc!\")\n",
        "\n",
        "        # Remove the bottom piece, shift column down, place removed piece on top\n",
        "        removed_disc = bottom_piece\n",
        "        for r in range(rows - 1, 0, -1):\n",
        "            new_board[r, col] = new_board[r - 1, col]\n",
        "        new_board[0, col] = removed_disc # nwxt available space\n",
        "\n",
        "        return new_board, True  # after a mean move, last_move_was_mean = True\n",
        "\n",
        "\n",
        "def terminal(board, last_move_was_mean, player):\n",
        "    \"\"\"\n",
        "    Check if the current state is terminal for the CURRENT player's turn.\n",
        "\n",
        "    A state is terminal if:\n",
        "      1) The utility(...) is not None => a connect-4 is found (or tie if both).\n",
        "      2) The board is completely full => no further moves => terminal.\n",
        "      3) The current player has NO valid actions => the game ends immediately.\n",
        "         (this is a standard approach in Connect-4 if you cannot move,\n",
        "          though you can tweak if you want to 'skip' instead).\n",
        "    \"\"\"\n",
        "    # 1) If anyone has connect-4 (or both => tie), the game ends\n",
        "    u = utility(board)\n",
        "    if u is not None:\n",
        "        return True\n",
        "\n",
        "    # 2) If the board is completely full => no moves => terminal\n",
        "    if is_full(board):\n",
        "        return True\n",
        "\n",
        "    # 3) If the current player has no valid actions => game ends\n",
        "    possible = actions(board, player, last_move_was_mean)\n",
        "    if len(possible) == 0:\n",
        "        return True\n",
        "\n",
        "    return False\n"
      ]
    },
    {
      "cell_type": "markdown",
      "metadata": {
        "id": "8T7SYQM4L8cl"
      },
      "source": [
        "Implement an agent that plays randomly. Make sure the agent function receives as the percept the game state and returns a valid action. Use an agent function definition with the following signature (arguments):\n",
        "\n",
        "`def random_player(state, player = None): ...`\n",
        "\n",
        "The argument `player` is used for agents that do not store what side they are playing. The value passed on by the environment should be 1 ot -1 for playerred and yellow, respectively.  See [Experiments section for tic-tac-toe](https://nbviewer.org/github/mhahsler/CS7320-AI/blob/master/Games/tictactoe_and_or_tree_search.ipynb#Experiments) for an example."
      ]
    },
    {
      "cell_type": "code",
      "execution_count": 46,
      "metadata": {
        "id": "g0uUKNKNL8cl"
      },
      "outputs": [],
      "source": [
        "def random_player(state, player):\n",
        "    \"\"\"A simple random agent that picks a random valid move.\"\"\"\n",
        "    board, last_move_was_mean = state\n",
        "    valid_moves = actions(board, player, last_move_was_mean)\n",
        "    return random.choice(valid_moves) if valid_moves else None\n"
      ]
    },
    {
      "cell_type": "markdown",
      "metadata": {
        "id": "rS3yOFlbL8cl"
      },
      "source": [
        "Let two random agents play against each other 1000 times. Look at the [Experiments section for tic-tac-toe](https://nbviewer.org/github/mhahsler/CS7320-AI/blob/master/Games/tictactoe_and_or_tree_search.ipynb#Experiments) to see how the environment uses the agent functions to play against each other.\n",
        "\n",
        "How often does each player win? Is the result expected?"
      ]
    },
    {
      "cell_type": "code",
      "execution_count": 47,
      "metadata": {
        "tags": [],
        "id": "55tvNH3vL8cl"
      },
      "outputs": [],
      "source": [
        "def play_game(agent1, agent2, rows=6, cols=7, n_games=1, verbose=False):\n",
        "    \"\"\"\n",
        "    Plays n_games of Mean Connect 4 between agent1 (Max=1) and agent2 (Min=-1).\n",
        "    Returns counts of outcomes {1: #MaxWins, -1: #MinWins, 0: #Ties}.\n",
        "    \"\"\"\n",
        "    results = {1: 0, -1: 0, 0: 0}\n",
        "    for g in range(n_games):\n",
        "        board = empty_board(rows, cols)\n",
        "        last_mean = False\n",
        "        player = 1  # Max starts\n",
        "        while True:\n",
        "            if terminal(board, last_mean, player):\n",
        "                u = utility(board)\n",
        "                if u is None:\n",
        "                    results[0] += 1\n",
        "                else:\n",
        "                    results[u] += 1\n",
        "                break\n",
        "\n",
        "            valid_moves = actions(board, player, last_mean)\n",
        "            if not valid_moves:\n",
        "                results[0] += 1  # Tie if no valid moves left\n",
        "                break\n",
        "\n",
        "            act = agent1((board, last_mean), player) if player == 1 else agent2((board, last_mean), player)\n",
        "            board, last_mean = result(board, player, act, last_mean)\n",
        "            player = -player\n",
        "\n",
        "        if verbose and (g + 1) % 100 == 0:\n",
        "            print(f\"Game {g + 1} finished.\")\n",
        "\n",
        "    return results"
      ]
    },
    {
      "cell_type": "code",
      "source": [
        "# Let two random agents play 1000 times\n",
        "res = play_game(random_player, random_player, n_games=1000)\n",
        "print(\"Random vs. Random over 1000 games:\", res)"
      ],
      "metadata": {
        "colab": {
          "base_uri": "https://localhost:8080/"
        },
        "id": "dtK1uABGh1xu",
        "outputId": "2c68f1d4-5551-4b17-e783-db50344ecd9f"
      },
      "execution_count": 48,
      "outputs": [
        {
          "output_type": "stream",
          "name": "stdout",
          "text": [
            "Random vs. Random over 1000 games: {1: 448, -1: 284, 0: 268}\n"
          ]
        }
      ]
    },
    {
      "cell_type": "code",
      "source": [
        "# ###############################################################################\n",
        "# # Experiment: random vs. random\n",
        "# ###############################################################################\n",
        "\n",
        "# def experiment_random_vs_random(n=1000, rows=6, cols=7, connect=4):\n",
        "#     results = {1: 0, -1: 0, 0: 0}\n",
        "#     for _ in range(n):\n",
        "#         w = play_game(random_player, random_player, rows, cols, connect, False)\n",
        "#         results[w] += 1\n",
        "#     return results\n",
        "\n",
        "# if __name__ == \"__main__\":\n",
        "#     # Example: let random agents play 1000 times\n",
        "#     results = experiment_random_vs_random(n=1000, rows=6, cols=7, connect=4)\n",
        "#     print(\"Random vs. Random Results (1000 games):\", results)"
      ],
      "metadata": {
        "id": "pjwNVirhYYxP"
      },
      "execution_count": null,
      "outputs": []
    },
    {
      "cell_type": "markdown",
      "metadata": {
        "id": "DvzOxRDpL8cm"
      },
      "source": [
        "## Task 3: Minimax Search with Alpha-Beta Pruning [3 points]\n",
        "\n",
        "### Implement the search starting.\n",
        "\n",
        "Implement the search starting from a given state and specifying the player and put it into an agent function.\n",
        "You can use code from the [tic-tac-toe example](https://nbviewer.org/github/mhahsler/CS7320-AI/blob/master/Games/tictactoe_alpha_beta_tree_search.ipynb).\n",
        "\n",
        "__Notes:__\n",
        "* Make sure that all your agent functions have a signature consistent with the random agent above.\n",
        "* The search space for a $6 \\times 7$ board is large. You can experiment with smaller boards (the smallest is $4 \\times 4$) and/or changing the winning rule to connect 3 instead of 4."
      ]
    },
    {
      "cell_type": "code",
      "execution_count": 49,
      "metadata": {
        "id": "GJ2xQLrWL8cm"
      },
      "outputs": [],
      "source": [
        "import math\n",
        "import sys\n",
        "\n",
        "def alphabeta(state, depth, alpha, beta, maximizingPlayer):\n",
        "    \"\"\"\n",
        "    Standard alpha-beta minimax:\n",
        "      state = (board, last_mean)\n",
        "      depth is how deep we can still search\n",
        "      alpha, beta as usual\n",
        "      maximizingPlayer is a boolean (True => next move is from Max=1, else Min=-1)\n",
        "\n",
        "    Returns (value, action)\n",
        "    \"\"\"\n",
        "    (board, last_mean) = state\n",
        "    current_player = 1 if maximizingPlayer else -1\n",
        "    # Check for terminal or depth=0\n",
        "    if terminal(board, last_mean, current_player):\n",
        "        # if terminal, use utility\n",
        "        u = utility(board)\n",
        "        if u is None:\n",
        "            # tie at a terminal\n",
        "            return (0, None)\n",
        "        else:\n",
        "            return (u, None)\n",
        "    if depth == 0:\n",
        "        # No more search allowed, fallback to a simple evaluation\n",
        "        return (simple_heuristic(board), None)\n",
        "\n",
        "    if maximizingPlayer:\n",
        "        player = 1\n",
        "        value = -math.inf\n",
        "        best_action = None\n",
        "\n",
        "        all_actions = actions(board, player, last_mean)\n",
        "        # Basic: no move-ordering\n",
        "        for act in all_actions:\n",
        "            child_state = result(board, player, act, last_mean)\n",
        "            (child_val, _) = alphabeta(child_state, depth-1, alpha, beta, False)\n",
        "            if child_val > value:\n",
        "                value = child_val\n",
        "                best_action = act\n",
        "            alpha = max(alpha, value)\n",
        "            if alpha >= beta:\n",
        "                break\n",
        "        return (value, best_action)\n",
        "    else:\n",
        "        player = -1\n",
        "        value = math.inf\n",
        "        best_action = None\n",
        "\n",
        "        all_actions = actions(board, player, last_mean)\n",
        "        for act in all_actions:\n",
        "            child_state = result(board, player, act, last_mean)\n",
        "            (child_val, _) = alphabeta(child_state, depth-1, alpha, beta, True)\n",
        "            if child_val < value:\n",
        "                value = child_val\n",
        "                best_action = act\n",
        "            beta = min(beta, value)\n",
        "            if beta <= alpha:\n",
        "                break\n",
        "        return (value, best_action)\n",
        "\n",
        "\n",
        "def simple_heuristic(board):\n",
        "    \"\"\"\n",
        "    A trivial fallback evaluation if needed.\n",
        "    For example, count #1 discs minus #(-1) discs.\n",
        "    \"\"\"\n",
        "    return np.sum(board)\n",
        "def minimax_agent(state, player=1, depth=4):\n",
        "    \"\"\"\n",
        "    Uses alpha-beta minimax from perspective of player=1.\n",
        "    If 'player' is -1, we flip the sign on the returned value\n",
        "    to get the best move for -1.\n",
        "\n",
        "    For the action choice, we only care about the best_action from alphabeta.\n",
        "    \"\"\"\n",
        "    # If player = -1, we effectively want to run the same code\n",
        "    # but treat \"maximizingPlayer\" = False at the root.\n",
        "\n",
        "    (board, last_mean) = state\n",
        "\n",
        "    if player == 1:\n",
        "        maximizing = True\n",
        "    else:\n",
        "        maximizing = False\n",
        "\n",
        "    val, act = alphabeta(state, depth, -math.inf, math.inf, maximizing)\n",
        "    return act\n"
      ]
    },
    {
      "cell_type": "markdown",
      "metadata": {
        "id": "XQeK9qFXL8cm"
      },
      "source": [
        "Experiment with some manually created boards (at least 5) to check if the agent spots winning opportunities."
      ]
    },
    {
      "cell_type": "code",
      "execution_count": 50,
      "metadata": {
        "id": "ECcMh7WTL8cm",
        "colab": {
          "base_uri": "https://localhost:8080/",
          "height": 1000
        },
        "outputId": "3b5a9d3f-cdde-49bb-82f7-d2ec27f32568"
      },
      "outputs": [
        {
          "output_type": "display_data",
          "data": {
            "text/plain": [
              "<Figure size 640x480 with 1 Axes>"
            ],
            "image/png": "[encoded data removed]"
          },
          "metadata": {}
        },
        {
          "output_type": "stream",
          "name": "stdout",
          "text": [
            "Chosen action by minimax (player=1): ('drop', 0)\n"
          ]
        },
        {
          "output_type": "display_data",
          "data": {
            "text/plain": [
              "<Figure size 640x480 with 1 Axes>"
            ],
            "image/png": "[encoded data removed]"
          },
          "metadata": {}
        },
        {
          "output_type": "stream",
          "name": "stdout",
          "text": [
            "Chosen action by minimax (player=1): ('drop', 0)\n"
          ]
        },
        {
          "output_type": "display_data",
          "data": {
            "text/plain": [
              "<Figure size 640x480 with 1 Axes>"
            ],
            "image/png": "[encoded data removed]"
          },
          "metadata": {}
        },
        {
          "output_type": "stream",
          "name": "stdout",
          "text": [
            "Chosen action by minimax (player=1): ('drop', 0)\n"
          ]
        },
        {
          "output_type": "display_data",
          "data": {
            "text/plain": [
              "<Figure size 640x480 with 1 Axes>"
            ],
            "image/png": "[encoded data removed]"
          },
          "metadata": {}
        },
        {
          "output_type": "stream",
          "name": "stdout",
          "text": [
            "Chosen action by minimax (player=1): ('drop', 0)\n"
          ]
        },
        {
          "output_type": "display_data",
          "data": {
            "text/plain": [
              "<Figure size 640x480 with 1 Axes>"
            ],
            "image/png": "[encoded data removed]"
          },
          "metadata": {}
        },
        {
          "output_type": "stream",
          "name": "stdout",
          "text": [
            "Chosen action by minimax (player=1): ('drop', 0)\n"
          ]
        }
      ],
      "source": [
        "def show_and_decide(board, last_mean=False, current_player=1, depth=5):\n",
        "    \"\"\"\n",
        "    1. Visualize the board\n",
        "    2. Call minimax_agent to get the best move\n",
        "    3. Print the move\n",
        "    \"\"\"\n",
        "    visualize(board)\n",
        "    best_action = minimax_agent((board.copy(), last_mean), player=current_player, depth=depth)\n",
        "    print(f\"Chosen action by minimax (player={current_player}): {best_action}\")\n",
        "# Board: 4x4\n",
        "# Bottom row is [1, 1, 1, 0], everything above is 0.\n",
        "test1 = empty_board(4,4)\n",
        "test1[3,0] = 1\n",
        "test1[3,1] = 1\n",
        "test1[3,2] = 1\n",
        "# next move in col=3 should be a horizontal Connect-4 for red.\n",
        "\n",
        "show_and_decide(test1, last_mean=False, current_player=1, depth=5)\n",
        "# We create a board with 3 red pieces stacked in one column (say col=2),\n",
        "# so the 4th will produce a vertical win.\n",
        "test2 = empty_board(4,4)\n",
        "test2[3,2] = 1\n",
        "test2[2,2] = 1\n",
        "test2[1,2] = 1\n",
        "# Next drop in col=2 at row=0 is an immediate vertical win.\n",
        "\n",
        "show_and_decide(test2, last_mean=False, current_player=1, depth=5)\n",
        "# We arrange three red in a diagonal:\n",
        "#   row=3,col=0 -> red\n",
        "#   row=2,col=1 -> red\n",
        "#   row=1,col=2 -> red\n",
        "# Next drop at row=0,col=3 completes the diagonal\n",
        "test3 = empty_board(4,4)\n",
        "test3[3,0] = 1\n",
        "test3[2,1] = 1\n",
        "test3[1,2] = 1\n",
        "show_and_decide(test3, last_mean=False, current_player=1, depth=5)\n",
        "# Opponent (yellow = -1) is about to win with a vertical stack in col=1.\n",
        "# The bottom 3 cells in col=1 are [-1, -1, -1].\n",
        "test4 = empty_board(4,4)\n",
        "test4[3,1] = -1\n",
        "test4[2,1] = -1\n",
        "test4[1,1] = -1\n",
        "\n",
        "# It's Red's turn (player=1). If Red doesn't drop a piece on col=1 row=0,\n",
        "# then Yellow will drop on col=1 next turn and get 4 in a row vertically.\n",
        "\n",
        "show_and_decide(test4, last_mean=False, current_player=1, depth=5)\n",
        "# A partially filled 4x4 board with no immediate 3 in a row.\n",
        "# We'll put some scattered red(1) and yellow(-1) discs.\n",
        "test5 = empty_board(4,4)\n",
        "test5[3,0] = 1\n",
        "test5[3,1] = -1\n",
        "test5[3,2] = 1\n",
        "test5[2,1] = -1\n",
        "test5[2,2] = -1\n",
        "# Now it's Red's turn. No immediate forced connect-4 in one move.\n",
        "\n",
        "show_and_decide(test5, last_mean=False, current_player=1, depth=5)\n"
      ]
    },
    {
      "cell_type": "markdown",
      "metadata": {
        "id": "8ByI_b2VL8cm"
      },
      "source": [
        "How long does it take to make a move? Start with a smaller board with 4 columns and make the board larger by adding columns."
      ]
    },
    {
      "cell_type": "code",
      "execution_count": 51,
      "metadata": {
        "id": "1kG2qLFIL8cm",
        "colab": {
          "base_uri": "https://localhost:8080/"
        },
        "outputId": "cc94ad95-9482-4772-c4b2-c28c1b6bade3"
      },
      "outputs": [
        {
          "output_type": "stream",
          "name": "stdout",
          "text": [
            "Action: ('drop', 0) Time for move: 0.006124258041381836 seconds\n"
          ]
        }
      ],
      "source": [
        "start_time = time.time()\n",
        "act = minimax_agent((test_board, False), player=1, depth=5)\n",
        "end_time = time.time()\n",
        "print(\"Action:\", act, \"Time for move:\", end_time - start_time, \"seconds\")\n"
      ]
    },
    {
      "cell_type": "markdown",
      "metadata": {
        "id": "XDHTe0LcL8cn"
      },
      "source": [
        "### Move ordering\n",
        "\n",
        "Starting the search with better moves will increase the efficiency of alpha-beta pruning. Describe and implement a simple move ordering strategy. Make a table that shows how the ordering strategies influence the time it takes to make a move."
      ]
    },
    {
      "cell_type": "code",
      "execution_count": 52,
      "metadata": {
        "id": "omeYo7HyL8cn"
      },
      "outputs": [],
      "source": [
        "def move_ordering(board, player, last_mean):\n",
        "    \"\"\"\n",
        "    Return a list of actions sorted by a shallow or domain-based heuristic.\n",
        "    Example: center columns first.\n",
        "    \"\"\"\n",
        "    acts = actions(board, player, last_mean)\n",
        "    # Sort by how close col is to middle\n",
        "    cols = board.shape[1]\n",
        "    mid = (cols - 1) / 2\n",
        "    # If it's a drop, we can rank by |col - mid|.\n",
        "    # For mean moves, do the same or slightly less priority.\n",
        "\n",
        "    def col_priority(a):\n",
        "        _, c = a\n",
        "        return abs(c - mid)\n",
        "\n",
        "    acts_sorted = sorted(acts, key=col_priority)\n",
        "    return acts_sorted\n",
        "import math\n",
        "import sys\n",
        "\n",
        "def alphabeta(state, depth, alpha, beta, maximizingPlayer):\n",
        "    \"\"\"\n",
        "    Standard alpha-beta minimax:\n",
        "      state = (board, last_mean)\n",
        "      depth is how deep we can still search\n",
        "      alpha, beta as usual\n",
        "      maximizingPlayer is a boolean (True => next move is from Max=1, else Min=-1)\n",
        "\n",
        "    Returns (value, action)\n",
        "    \"\"\"\n",
        "    (board, last_mean) = state\n",
        "    current_player = 1 if maximizingPlayer else -1\n",
        "    # Check for terminal or depth=0\n",
        "    if terminal(board, last_mean,current_player):\n",
        "        # if terminal, use utility\n",
        "        u = utility(board)\n",
        "        if u is None:\n",
        "            # tie at a terminal\n",
        "            return (0, None)\n",
        "        else:\n",
        "            return (u, None)\n",
        "    if depth == 0:\n",
        "        # No more search allowed, fallback to a simple evaluation\n",
        "        return (simple_heuristic(board), None)\n",
        "\n",
        "    if maximizingPlayer:\n",
        "        player = 1\n",
        "        value = -math.inf\n",
        "        best_action = None\n",
        "\n",
        "        all_actions = move_ordering(board, player, last_mean)\n",
        "        # Basic: no move-ordering\n",
        "        for act in all_actions:\n",
        "            child_state = result(board, player, act, last_mean)\n",
        "            (child_val, _) = alphabeta(child_state, depth-1, alpha, beta, False)\n",
        "            if child_val > value:\n",
        "                value = child_val\n",
        "                best_action = act\n",
        "            alpha = max(alpha, value)\n",
        "            if alpha >= beta:\n",
        "                break\n",
        "        return (value, best_action)\n",
        "    else:\n",
        "        player = -1\n",
        "        value = math.inf\n",
        "        best_action = None\n",
        "\n",
        "        all_actions = actions(board, player, last_mean)\n",
        "        for act in all_actions:\n",
        "            child_state = result(board, player, act, last_mean)\n",
        "            (child_val, _) = alphabeta(child_state, depth-1, alpha, beta, True)\n",
        "            if child_val < value:\n",
        "                value = child_val\n",
        "                best_action = act\n",
        "            beta = min(beta, value)\n",
        "            if beta <= alpha:\n",
        "                break\n",
        "        return (value, best_action)\n",
        "\n",
        "\n",
        "def simple_heuristic(board):\n",
        "    \"\"\"\n",
        "    A trivial fallback evaluation if needed.\n",
        "    For example, count #1 discs minus #(-1) discs.\n",
        "    \"\"\"\n",
        "    return np.sum(board)\n",
        "def minimax_agent(state, player=1, depth=4):\n",
        "    \"\"\"\n",
        "    Uses alpha-beta minimax from perspective of player=1.\n",
        "    If 'player' is -1, we flip the sign on the returned value\n",
        "    to get the best move for -1.\n",
        "\n",
        "    For the action choice, we only care about the best_action from alphabeta.\n",
        "    \"\"\"\n",
        "    # If player = -1, we effectively want to run the same code\n",
        "    # but treat \"maximizingPlayer\" = False at the root.\n",
        "\n",
        "    (board, last_mean) = state\n",
        "\n",
        "    if player == 1:\n",
        "        maximizing = True\n",
        "    else:\n",
        "        maximizing = False\n",
        "\n",
        "    val, act = alphabeta(state, depth, -math.inf, math.inf, maximizing)\n",
        "    return act\n"
      ]
    },
    {
      "cell_type": "markdown",
      "metadata": {
        "id": "n_ZJDd9nL8cn"
      },
      "source": [
        "### The first few moves\n",
        "\n",
        "Start with an empty board. This is the worst case scenario for minimax search with alpha-beta pruning since it needs solve all possible games that can be played (minus some pruning) before making the decision. What can you do?"
      ]
    },
    {
      "cell_type": "code",
      "execution_count": null,
      "metadata": {
        "id": "Ip9dbCRgL8cn"
      },
      "outputs": [],
      "source": [
        "# Your code/ answer goes here."
      ]
    },
    {
      "cell_type": "markdown",
      "metadata": {
        "id": "Uhk1YRnDL8cn"
      },
      "source": [
        "### Playtime\n",
        "\n",
        "Let the Minimax Search agent play a random agent on a small board. Analyze wins, losses and draws."
      ]
    },
    {
      "cell_type": "code",
      "execution_count": 53,
      "metadata": {
        "id": "Kx1qffv2L8co",
        "colab": {
          "base_uri": "https://localhost:8080/"
        },
        "outputId": "caf6a55f-e183-4ef6-d577-0a697fe859e3"
      },
      "outputs": [
        {
          "output_type": "stream",
          "name": "stdout",
          "text": [
            "Minimax vs Random (4x4, 50 games): {1: 32, -1: 0, 0: 18}\n"
          ]
        }
      ],
      "source": [
        "res = play_game(minimax_agent, random_player, rows=4, cols=4, n_games=50, verbose=False)\n",
        "print(\"Minimax vs Random (4x4, 50 games):\", res)\n"
      ]
    },
    {
      "cell_type": "markdown",
      "metadata": {
        "id": "LXE2i58iL8co"
      },
      "source": [
        "## Task 4: Heuristic Alpha-Beta Tree Search [3 points]\n",
        "\n",
        "### Heuristic evaluation function\n",
        "\n",
        "Define and implement a heuristic evaluation function."
      ]
    },
    {
      "cell_type": "code",
      "execution_count": 54,
      "metadata": {
        "id": "qoCQIXw_L8co"
      },
      "outputs": [],
      "source": [
        "def advanced_evaluate_board(board):\n",
        "    \"\"\"\n",
        "    A more advanced evaluation function for Connect 4.\n",
        "    We check every 4-cell window (horizontal, vertical, diagonal)\n",
        "    and assign a score based on how many discs for player=1\n",
        "    and how many for player=-1 are in that window.\n",
        "\n",
        "    Typically:\n",
        "      - 4 in a row => +/- 1000000  (immediate win)\n",
        "      - 3 in a row + 1 empty => +/- 50\n",
        "      - 2 in a row + 2 empty => +/- 10\n",
        "      - 1 in a row + 3 empty => +/- 1\n",
        "      - Mixed or blocked => 0 for that window\n",
        "    \"\"\"\n",
        "\n",
        "    rows, cols = board.shape\n",
        "\n",
        "    # Directions: (row increment, col increment)\n",
        "    directions = [(0,1), (1,0), (1,1), (1,-1)]\n",
        "\n",
        "    score = 0\n",
        "\n",
        "    # Helper function: evaluate the counts in a 4-cell segment\n",
        "    def eval_window(window):\n",
        "        \"\"\"\n",
        "        window is a list of 4 cell values, e.g. [1, 0, 1, -1].\n",
        "        Return the numeric score for that window.\n",
        "        \"\"\"\n",
        "        count1 = window.count(1)\n",
        "        countm1 = window.count(-1)\n",
        "        count0 = window.count(0)\n",
        "\n",
        "        # If both players are present, no one can make 4 in a row here => 0\n",
        "        if count1 > 0 and countm1 > 0:\n",
        "            return 0\n",
        "\n",
        "        # If only player=1 discs\n",
        "        if count1 == 4:\n",
        "            return 1000000  # immediate win\n",
        "        elif count1 == 3 and count0 == 1:\n",
        "            return 50\n",
        "        elif count1 == 2 and count0 == 2:\n",
        "            return 10\n",
        "        elif count1 == 1 and count0 == 3:\n",
        "            return 1\n",
        "\n",
        "        # If only player=-1 discs\n",
        "        if countm1 == 4:\n",
        "            return -1000000  # immediate loss\n",
        "        elif countm1 == 3 and count0 == 1:\n",
        "            return -50\n",
        "        elif countm1 == 2 and count0 == 2:\n",
        "            return -10\n",
        "        elif countm1 == 1 and count0 == 3:\n",
        "            return -1\n",
        "\n",
        "        return 0  # any other combination (like 2 discs of each etc.)\n",
        "\n",
        "    # Scan board for all 4-cell windows\n",
        "    for r in range(rows):\n",
        "        for c in range(cols):\n",
        "            for dr, dc in directions:\n",
        "                window = []\n",
        "                for k in range(4):\n",
        "                    rr = r + dr*k\n",
        "                    cc = c + dc*k\n",
        "                    if 0 <= rr < rows and 0 <= cc < cols:\n",
        "                        window.append(board[rr, cc])\n",
        "                    else:\n",
        "                        break\n",
        "                # Only evaluate if we got exactly 4 cells\n",
        "                if len(window) == 4:\n",
        "                    score += eval_window(window)\n",
        "\n",
        "    return score\n"
      ]
    },
    {
      "cell_type": "markdown",
      "metadata": {
        "id": "QbIviqR6L8co"
      },
      "source": [
        "### Cutting off search\n",
        "\n",
        "Modify your Minimax Search with Alpha-Beta Pruning to cut off search at a specified depth and use the heuristic evaluation function. Experiment with different cutoff values."
      ]
    },
    {
      "cell_type": "code",
      "execution_count": 55,
      "metadata": {
        "id": "IhKCwDTPL8co"
      },
      "outputs": [],
      "source": [
        "def alphabeta_heuristic(state, depth, alpha, beta, maximizingPlayer):\n",
        "    (board, last_mean) = state\n",
        "    current_player = 1 if maximizingPlayer else -1\n",
        "\n",
        "    # Check if terminal\n",
        "    if terminal(board, last_mean, current_player):\n",
        "        u = utility(board)\n",
        "        if u is None:\n",
        "            # tie\n",
        "            return (0, None)\n",
        "        else:\n",
        "            return (u, None)\n",
        "\n",
        "    # If depth=0, evaluate using advanced evaluation\n",
        "    if depth == 0:\n",
        "        return (advanced_evaluate_board(board), None)\n",
        "\n",
        "    if maximizingPlayer:\n",
        "        player = 1\n",
        "        value = -math.inf\n",
        "        best_action = None\n",
        "        all_actions = actions(board, player, last_mean)\n",
        "        for act in all_actions:\n",
        "            child_state = result(board, player, act, last_mean)\n",
        "            (child_val, _) = alphabeta_heuristic(child_state, depth-1, alpha, beta, False)\n",
        "            if child_val > value:\n",
        "                value = child_val\n",
        "                best_action = act\n",
        "            alpha = max(alpha, value)\n",
        "            if alpha >= beta:\n",
        "                break\n",
        "        return (value, best_action)\n",
        "    else:\n",
        "        player = -1\n",
        "        value = math.inf\n",
        "        best_action = None\n",
        "        all_actions = actions(board, player, last_mean)\n",
        "        for act in all_actions:\n",
        "            child_state = result(board, player, act, last_mean)\n",
        "            (child_val, _) = alphabeta_heuristic(child_state, depth-1, alpha, beta, True)\n",
        "            if child_val < value:\n",
        "                value = child_val\n",
        "                best_action = act\n",
        "            beta = min(beta, value)\n",
        "            if beta <= alpha:\n",
        "                break\n",
        "        return (value, best_action)\n",
        "\n",
        "def heuristic_agent(state, player=1, depth=5):\n",
        "    (val, act) = alphabeta_heuristic(state, depth, -math.inf, math.inf, player==1)\n",
        "    return act\n",
        "\n"
      ]
    },
    {
      "cell_type": "markdown",
      "metadata": {
        "id": "NBpYGvxBL8co"
      },
      "source": [
        "Experiment with the same manually created boards as above to check if the agent spots winning opportunities."
      ]
    },
    {
      "cell_type": "code",
      "execution_count": 56,
      "metadata": {
        "id": "KHqb_K5YL8co",
        "colab": {
          "base_uri": "https://localhost:8080/",
          "height": 465
        },
        "outputId": "c5d7f9cc-8d1c-4b21-e66d-94a56f5a1c7a"
      },
      "outputs": [
        {
          "output_type": "stream",
          "name": "stdout",
          "text": [
            "Test Board for Heuristic Evaluation:\n"
          ]
        },
        {
          "output_type": "display_data",
          "data": {
            "text/plain": [
              "<Figure size 640x480 with 1 Axes>"
            ],
            "image/png": "[encoded data removed]"
          },
          "metadata": {}
        },
        {
          "output_type": "stream",
          "name": "stdout",
          "text": [
            "Heuristic agent move (player 1): ('drop', 3)\n"
          ]
        }
      ],
      "source": [
        "# Testing on a manually created board:\n",
        "board_test = empty_board()\n",
        "board_test[5, 1:4] = 1\n",
        "board_test[5, 4] = -1\n",
        "print(\"Test Board for Heuristic Evaluation:\")\n",
        "visualize(board_test)\n",
        "# The heuristic_agent function expects a state tuple (board, last_mean)\n",
        "# We need to provide the last_mean value (False in this case)\n",
        "print(\"Heuristic agent move (player 1):\", heuristic_agent((board_test, False), 1, depth=4))"
      ]
    },
    {
      "cell_type": "markdown",
      "metadata": {
        "id": "ZaBC7W7VL8cp"
      },
      "source": [
        "How long does it take to make a move? Start with a smaller board with 4 columns and make the board larger by adding columns."
      ]
    },
    {
      "cell_type": "code",
      "execution_count": 57,
      "metadata": {
        "id": "yb303vWbL8cp",
        "colab": {
          "base_uri": "https://localhost:8080/"
        },
        "outputId": "65364dca-92a9-4291-d7a9-cf2cbeb6955c"
      },
      "outputs": [
        {
          "output_type": "stream",
          "name": "stdout",
          "text": [
            "Move chosen: ('drop', 1)\n",
            "Time taken for 4x4, depth=5: 0.03587079048156738 seconds\n",
            "Move chosen: ('drop', 3)\n",
            "Time taken for 6x7, depth=5: 1.5181682109832764 seconds\n"
          ]
        }
      ],
      "source": [
        "import time\n",
        "\n",
        "rows, cols = 4, 4\n",
        "board_test = empty_board(rows, cols)\n",
        "# Some random discs\n",
        "board_test[3,0] = 1\n",
        "board_test[3,1] = -1\n",
        "\n",
        "start_time = time.time()\n",
        "move = heuristic_agent((board_test, False), 1, depth=5)\n",
        "end_time = time.time()\n",
        "\n",
        "print(\"Move chosen:\", move)\n",
        "print(\"Time taken for 4x4, depth=5:\", end_time - start_time, \"seconds\")\n",
        "rows, cols = 6, 7\n",
        "board_test_large = empty_board(rows, cols)\n",
        "# Maybe drop some pieces:\n",
        "board_test_large[5,3] = 1\n",
        "board_test_large[4,3] = -1\n",
        "# etc.\n",
        "\n",
        "start_time = time.time()\n",
        "move_large = heuristic_agent((board_test_large, False), 1, depth=5)\n",
        "end_time = time.time()\n",
        "\n",
        "print(\"Move chosen:\", move_large)\n",
        "print(\"Time taken for 6x7, depth=5:\", end_time - start_time, \"seconds\")\n"
      ]
    },
    {
      "cell_type": "markdown",
      "metadata": {
        "id": "bokyrXrkL8cp"
      },
      "source": [
        "### Playtime\n",
        "\n",
        "Let two heuristic search agents (different cutoff depth, different heuristic evaluation function) compete against each other on a reasonably sized board. Since there is no randomness, you only need to let them play once."
      ]
    },
    {
      "cell_type": "code",
      "execution_count": 59,
      "metadata": {
        "id": "hUILjLbdL8cp",
        "colab": {
          "base_uri": "https://localhost:8080/"
        },
        "outputId": "cfde2c24-5b8f-4412-dfc1-4986ca5cb0a5"
      },
      "outputs": [
        {
          "output_type": "stream",
          "name": "stdout",
          "text": [
            "Heuristic Depth4 vs Depth5: {1: 1, -1: 0, 0: 0}\n"
          ]
        }
      ],
      "source": [
        "def heuristic_agent_depth3(state, player=1):\n",
        "    return heuristic_agent(state, player, depth=4)\n",
        "\n",
        "def heuristic_agent_depth5(state, player=1):\n",
        "    return heuristic_agent(state, player, depth=5)\n",
        "\n",
        "res = play_game(heuristic_agent_depth3,\n",
        "                heuristic_agent_depth5,\n",
        "                rows=6, cols=7,\n",
        "                n_games=1,\n",
        "                verbose=True)\n",
        "print(\"Heuristic Depth4 vs Depth5:\", res)\n"
      ]
    },
    {
      "cell_type": "markdown",
      "metadata": {
        "id": "UFhDH9M_L8cp"
      },
      "source": [
        "---\n",
        "Assignment adapted from [Michael Hahsler](https://github.com/mhahsler/CS7320-AI) under [CC BY-SA](https://creativecommons.org/licenses/by-sa/4.0/deed.en) license.\n"
      ]
    }
  ],
  "metadata": {
    "kernelspec": {
      "display_name": "Python 3",
      "name": "python3"
    },
    "language_info": {
      "codemirror_mode": {
        "name": "ipython",
        "version": 3
      },
      "file_extension": ".py",
      "mimetype": "text/x-python",
      "name": "python",
      "nbconvert_exporter": "python",
      "pygments_lexer": "ipython3",
      "version": "3.9.5"
    },
    "colab": {
      "provenance": [],
      "gpuType": "V28",
      "include_colab_link": true
    },
    "accelerator": "TPU"
  },
  "nbformat": 4,
  "nbformat_minor": 0
}